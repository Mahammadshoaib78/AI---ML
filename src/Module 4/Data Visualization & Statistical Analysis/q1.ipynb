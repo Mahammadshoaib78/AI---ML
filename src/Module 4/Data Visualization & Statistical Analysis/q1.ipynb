{
 "cells": [
  {
   "cell_type": "markdown",
   "metadata": {},
   "source": [
    "Title: Histogram of a Single Feature <br>\n",
    "\n",
    "Question 1: Create a histogram for the age feature from a dataset. Interpret what the shape of the histogram tells us about the distribution of the age feature."
   ]
  },
  {
   "cell_type": "code",
   "execution_count": null,
   "metadata": {},
   "outputs": [],
   "source": [
    "import pandas as pd\n",
    "import matplotlib.pyplot as plt\n",
    "import numpy as np\n",
    "\n",
    "# Create a sample dataset with an 'age' column\n",
    "np.random.seed(42)\n",
    "df = pd.DataFrame({'age': np.random.normal(loc=35, scale=10, size=1000).astype(int)})\n",
    "\n",
    "# Plotting histogram\n",
    "plt.figure(figsize=(8, 5))\n",
    "plt.hist(df['age'], bins=20, edgecolor='black')\n",
    "plt.title('Histogram of Age')\n",
    "plt.xlabel('Age')\n",
    "plt.ylabel('Frequency')\n",
    "plt.grid(True)\n",
    "plt.show()\n"
   ]
  },
  {
   "cell_type": "markdown",
   "metadata": {},
   "source": [
    "Title: Boxplot for a Single Feature <br>\n",
    "\n",
    "Question 2: Generate a boxplot for the salary feature and identify any outliers."
   ]
  },
  {
   "cell_type": "code",
   "execution_count": null,
   "metadata": {},
   "outputs": [],
   "source": [
    "import pandas as pd\n",
    "import matplotlib.pyplot as plt\n",
    "import seaborn as sns\n",
    "\n",
    "# Load your dataset (replace with actual path)\n",
    "# df = pd.read_csv('your_dataset.csv')\n",
    "\n",
    "# For demonstration: create a sample 'salary' column\n",
    "import numpy as np\n",
    "np.random.seed(0)\n",
    "df = pd.DataFrame({'salary': np.append(np.random.normal(50000, 10000, 200), [150000, 200000])})\n",
    "\n",
    "# Create the boxplot\n",
    "plt.figure(figsize=(8, 5))\n",
    "sns.boxplot(x=df['salary'])\n",
    "plt.title('Boxplot of Salary')\n",
    "plt.xlabel('Salary')\n",
    "plt.grid(True)\n",
    "plt.show()\n"
   ]
  },
  {
   "cell_type": "markdown",
   "metadata": {},
   "source": [
    "Title: Violin Plot of a Single Feature <br>\n",
    "\n",
    "Question 3: Use a violin plot to visualize the distribution of the height feature and comment on its shape."
   ]
  },
  {
   "cell_type": "code",
   "execution_count": null,
   "metadata": {},
   "outputs": [],
   "source": [
    "import pandas as pd\n",
    "import seaborn as sns\n",
    "import matplotlib.pyplot as plt\n",
    "import numpy as np\n",
    "\n",
    "# Create sample height data\n",
    "np.random.seed(42)\n",
    "df = pd.DataFrame({'height': np.random.normal(loc=170, scale=10, size=500)})\n",
    "\n",
    "# Create violin plot\n",
    "plt.figure(figsize=(8, 5))\n",
    "sns.violinplot(x=df['height'])\n",
    "plt.title('Violin Plot of Height')\n",
    "plt.xlabel('Height (cm)')\n",
    "plt.grid(True)\n",
    "plt.show()\n"
   ]
  },
  {
   "cell_type": "markdown",
   "metadata": {},
   "source": [
    "Title: Scatter Plot to Analyze Relationship<br>\n",
    "\n",
    "Question 4: Create a scatter plot for the weight and height features to determine if there is a trend."
   ]
  },
  {
   "cell_type": "code",
   "execution_count": null,
   "metadata": {},
   "outputs": [],
   "source": [
    "import pandas as pd\n",
    "import matplotlib.pyplot as plt\n",
    "import numpy as np\n",
    "\n",
    "# Sample data generation\n",
    "np.random.seed(42)\n",
    "height = np.random.normal(170, 10, 500)  # Height in cm\n",
    "weight = height * 0.45 + np.random.normal(0, 5, 500)  # Weight in kg (approximate linear relationship)\n",
    "\n",
    "df = pd.DataFrame({'height': height, 'weight': weight})\n",
    "\n",
    "# Create scatter plot\n",
    "plt.figure(figsize=(8, 6))\n",
    "plt.scatter(df['height'], df['weight'], alpha=0.6, edgecolor='black')\n",
    "plt.title('Scatter Plot of Weight vs. Height')\n",
    "plt.xlabel('Height (cm)')\n",
    "plt.ylabel('Weight (kg)')\n",
    "plt.grid(True)\n",
    "plt.show()\n"
   ]
  },
  {
   "cell_type": "markdown",
   "metadata": {},
   "source": [
    "Title: Correlation Heatmap<br>\n",
    "\n",
    "Question 5 : Generate a correlation heatmap for a dataset with multiple features (e.g., height ,weight , age ) and explain the correlations observed."
   ]
  },
  {
   "cell_type": "code",
   "execution_count": null,
   "metadata": {},
   "outputs": [],
   "source": [
    "import pandas as pd\n",
    "import numpy as np\n",
    "import seaborn as sns\n",
    "import matplotlib.pyplot as plt\n",
    "\n",
    "# Generate sample data\n",
    "np.random.seed(42)\n",
    "df = pd.DataFrame({\n",
    "    'height': np.random.normal(170, 10, 500),\n",
    "    'weight': np.random.normal(70, 15, 500),\n",
    "    'age': np.random.normal(40, 12, 500)\n",
    "})\n",
    "\n",
    "# Compute correlation matrix\n",
    "corr_matrix = df.corr()\n",
    "\n",
    "# Plot heatmap\n",
    "plt.figure(figsize=(8, 6))\n",
    "sns.heatmap(corr_matrix, annot=True, cmap='coolwarm', vmin=-1, vmax=1, fmt=\".2f\")\n",
    "plt.title('Correlation Heatmap')\n",
    "plt.show()\n"
   ]
  },
  {
   "cell_type": "markdown",
   "metadata": {},
   "source": [
    "Title: Descriptive Statistical Analysis<br>\n",
    "\n",
    "Question 6: Calculate the mean, median, standard deviation, skewness, and kurtosis for the\n",
    "temperature feature and discuss the results."
   ]
  },
  {
   "cell_type": "code",
   "execution_count": null,
   "metadata": {},
   "outputs": [],
   "source": [
    "import pandas as pd\n",
    "import numpy as np\n",
    "from scipy.stats import skew, kurtosis\n",
    "\n",
    "# Sample temperature data\n",
    "np.random.seed(42)\n",
    "temperature = np.random.normal(loc=25, scale=5, size=500)\n",
    "df = pd.DataFrame({'temperature': temperature})\n",
    "\n",
    "# Calculations\n",
    "mean_temp = df['temperature'].mean()\n",
    "median_temp = df['temperature'].median()\n",
    "std_temp = df['temperature'].std()\n",
    "skew_temp = skew(df['temperature'])\n",
    "kurt_temp = kurtosis(df['temperature'])\n",
    "# Display results\n",
    "print(f\"Mean: {mean_temp:.2f}\")\n",
    "print(f\"Median: {median_temp:.2f}\")\n",
    "print(f\"Standard Deviation: {std_temp:.2f}\")\n",
    "print(f\"Skewness: {skew_temp:.2f}\")\n",
    "print(f\"Kurtosis: {kurt_temp:.2f}\")\n"
   ]
  },
  {
   "cell_type": "markdown",
   "metadata": {},
   "source": [
    "Title: Covariance and Correlation between Two Features<br>\n",
    "\n",
    "Question 7: Compute the covariance and correlation between price and demand in a dataset.\n",
    "Explain what these metrics indicate."
   ]
  },
  {
   "cell_type": "code",
   "execution_count": null,
   "metadata": {},
   "outputs": [],
   "source": [
    "import pandas as pd\n",
    "import numpy as np\n",
    "\n",
    "# Create sample data\n",
    "np.random.seed(42)\n",
    "price = np.random.normal(100, 10, 100)\n",
    "demand = 1000 - 5 * price + np.random.normal(0, 20, 100)  # Simulate inverse relationship\n",
    "\n",
    "df = pd.DataFrame({'price': price, 'demand': demand})\n",
    "\n",
    "# Covariance\n",
    "cov = df[['price', 'demand']].cov().iloc[0, 1]\n",
    "\n",
    "# Correlation\n",
    "corr = df[['price', 'demand']].corr().iloc[0, 1]\n",
    "\n",
    "print(f\"Covariance: {cov:.2f}\")\n",
    "print(f\"Correlation: {corr:.2f}\")\n"
   ]
  },
  {
   "cell_type": "markdown",
   "metadata": {},
   "source": [
    "Title: Pair Plot for Multivariate Analysis<br>\n",
    "\n",
    "Question 8: Utilize a pair plot on a dataset to explore the relationships and distributions between\n",
    "height , weight , and age . What insights can you glean from this visualization?"
   ]
  },
  {
   "cell_type": "code",
   "execution_count": null,
   "metadata": {},
   "outputs": [],
   "source": [
    "import seaborn as sns\n",
    "import pandas as pd\n",
    "import numpy as np\n",
    "import matplotlib.pyplot as plt\n",
    "\n",
    "# Generate sample data\n",
    "np.random.seed(42)\n",
    "df = pd.DataFrame({\n",
    "    'height': np.random.normal(170, 10, 300),\n",
    "    'weight': np.random.normal(70, 12, 300),\n",
    "    'age': np.random.normal(40, 15, 300)\n",
    "})\n",
    "\n",
    "# Create the pair plot\n",
    "sns.pairplot(df)\n",
    "plt.suptitle(\"Pair Plot: Height, Weight, Age\", y=1.02)\n",
    "plt.show()\n"
   ]
  },
  {
   "cell_type": "markdown",
   "metadata": {},
   "source": [
    "Title: Principal Component Analysis (PCA)<br>\n",
    "\n",
    "Question 9 : Apply PCA on a dataset with multiple features (e.g., x1 , x2 , x3 , x4 ) and reduce it to two principal components. Visualize the data in the new feature space."
   ]
  },
  {
   "cell_type": "code",
   "execution_count": null,
   "metadata": {},
   "outputs": [],
   "source": [
    "import numpy as np\n",
    "import pandas as pd\n",
    "from sklearn.decomposition import PCA\n",
    "from sklearn.preprocessing import StandardScaler\n",
    "import matplotlib.pyplot as plt\n",
    "\n",
    "# Create synthetic dataset\n",
    "np.random.seed(42)\n",
    "df = pd.DataFrame({\n",
    "    'x1': np.random.normal(0, 1, 200),\n",
    "    'x2': np.random.normal(1, 2, 200),\n",
    "    'x3': np.random.normal(2, 3, 200),\n",
    "    'x4': np.random.normal(3, 4, 200)\n",
    "})\n",
    "\n",
    "# Standardize features\n",
    "scaler = StandardScaler()\n",
    "scaled_data = scaler.fit_transform(df)\n",
    "\n",
    "# Apply PCA\n",
    "pca = PCA(n_components=2)\n",
    "pca_result = pca.fit_transform(scaled_data)\n",
    "\n",
    "# Convert result to DataFrame\n",
    "pca_df = pd.DataFrame(data=pca_result, columns=['PC1', 'PC2'])\n",
    "\n",
    "# Visualize the 2D PCA results\n",
    "plt.figure(figsize=(8, 6))\n",
    "plt.scatter(pca_df['PC1'], pca_df['PC2'], alpha=0.6, edgecolor='k')\n",
    "plt.title('PCA Projection to 2D')\n",
    "plt.xlabel('Principal Component 1')\n",
    "plt.ylabel('Principal Component 2')\n",
    "plt.grid(True)\n",
    "plt.show()\n"
   ]
  },
  {
   "cell_type": "markdown",
   "metadata": {},
   "source": [
    "Title: Advanced Pair Plot with Hue Parameter<br>\n",
    "\n",
    "Question 10 : Create a pair plot for height , weight , and age with an added categorical variable gender as the hue to observe different group trends."
   ]
  },
  {
   "cell_type": "code",
   "execution_count": null,
   "metadata": {},
   "outputs": [],
   "source": [
    "import seaborn as sns\n",
    "import pandas as pd\n",
    "import numpy as np\n",
    "import matplotlib.pyplot as plt\n",
    "\n",
    "# Sample data with gender categories\n",
    "np.random.seed(42)\n",
    "n = 300\n",
    "df = pd.DataFrame({\n",
    "    'height': np.random.normal(170, 10, n),\n",
    "    'weight': np.random.normal(70, 12, n),\n",
    "    'age': np.random.normal(40, 15, n),\n",
    "    'gender': np.random.choice(['Male', 'Female'], n)\n",
    "})\n",
    "\n",
    "# Create pair plot with hue = gender\n",
    "sns.pairplot(df, hue='gender', diag_kind='kde', palette='Set2')\n",
    "plt.suptitle('Pair Plot of Height, Weight, Age by Gender', y=1.02)\n",
    "plt.show()\n"
   ]
  }
 ],
 "metadata": {
  "kernelspec": {
   "display_name": "Python 3",
   "language": "python",
   "name": "python3"
  },
  "language_info": {
   "codemirror_mode": {
    "name": "ipython",
    "version": 3
   },
   "file_extension": ".py",
   "mimetype": "text/x-python",
   "name": "python",
   "nbconvert_exporter": "python",
   "pygments_lexer": "ipython3",
   "version": "3.10.12"
  }
 },
 "nbformat": 4,
 "nbformat_minor": 2
}
