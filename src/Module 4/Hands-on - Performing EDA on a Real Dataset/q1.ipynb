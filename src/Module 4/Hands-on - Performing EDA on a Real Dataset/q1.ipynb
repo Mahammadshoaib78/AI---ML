{
 "cells": [
  {
   "cell_type": "markdown",
   "metadata": {},
   "source": [
    "Question 1: Load a CSV file containing a dataset into a Pandas DataFrame. Display the first few rows to understand its basic structure."
   ]
  },
  {
   "cell_type": "code",
   "execution_count": 3,
   "metadata": {},
   "outputs": [
    {
     "name": "stdout",
     "output_type": "stream",
     "text": [
      "Current working directory: /workspaces/AI---ML/src/Module 4/Hands-on - Performing EDA on a Real Dataset\n",
      "Error: File 'your_dataset.csv' not found. Please check the file path and try again.\n"
     ]
    }
   ],
   "source": [
    "import pandas as pd\n",
    "import os\n",
    "\n",
    "# Print the current working directory to help you verify where to place the file\n",
    "print(\"Current working directory:\", os.getcwd())\n",
    "\n",
    "# Replace this with the correct path to your CSV file\n",
    "file_path = 'your_dataset.csv'  # e.g., 'data/your_dataset.csv' or full path\n",
    "\n",
    "# Check if the file exists\n",
    "if os.path.exists(file_path):\n",
    "    # Load the CSV into a DataFrame\n",
    "    df = pd.read_csv(file_path)\n",
    "    print(\"File loaded successfully!\\n\")\n",
    "    \n",
    "    # Show the first 5 rows to understand the structure\n",
    "    print(df.head())\n",
    "else:\n",
    "    print(f\"Error: File '{file_path}' not found. Please check the file path and try again.\")\n"
   ]
  },
  {
   "cell_type": "markdown",
   "metadata": {},
   "source": [
    "Question 2: Determine the number of rows and columns in the dataset."
   ]
  },
  {
   "cell_type": "code",
   "execution_count": 4,
   "metadata": {},
   "outputs": [
    {
     "name": "stdout",
     "output_type": "stream",
     "text": [
      "Error: File 'your_dataset.csv' not found.\n"
     ]
    }
   ],
   "source": [
    "import pandas as pd\n",
    "import os\n",
    "\n",
    "file_path = 'your_dataset.csv'  # update this path as needed\n",
    "\n",
    "if os.path.exists(file_path):\n",
    "    df = pd.read_csv(file_path)\n",
    "    print(\"Dataset loaded successfully.\\n\")\n",
    "    rows, columns = df.shape\n",
    "    print(f\"The dataset has {rows} rows and {columns} columns.\")\n",
    "else:\n",
    "    print(f\"Error: File '{file_path}' not found.\")\n"
   ]
  },
  {
   "cell_type": "markdown",
   "metadata": {},
   "source": [
    "Question 3: Identify the data type of each column in the dataset."
   ]
  },
  {
   "cell_type": "code",
   "execution_count": 5,
   "metadata": {},
   "outputs": [
    {
     "name": "stdout",
     "output_type": "stream",
     "text": [
      "Error: File 'your_dataset.csv' not found.\n"
     ]
    }
   ],
   "source": [
    "import pandas as pd\n",
    "import os\n",
    "\n",
    "file_path = 'your_dataset.csv'  # Update with your file path\n",
    "\n",
    "if os.path.exists(file_path):\n",
    "    df = pd.read_csv(file_path)\n",
    "    print(\"Dataset loaded successfully.\\n\")\n",
    "    \n",
    "    print(\"Data types of each column:\")\n",
    "    print(df.dtypes)\n",
    "else:\n",
    "    print(f\"Error: File '{file_path}' not found.\")\n"
   ]
  },
  {
   "cell_type": "markdown",
   "metadata": {},
   "source": [
    "Question 4: Generate summary statistics for the numerical columns in the dataset."
   ]
  },
  {
   "cell_type": "code",
   "execution_count": null,
   "metadata": {},
   "outputs": [
    {
     "name": "stdout",
     "output_type": "stream",
     "text": [
      "Error: File 'your_dataset.csv' not found. Please check the file path.\n"
     ]
    }
   ],
   "source": [
    "import pandas as pd\n",
    "import os\n",
    "\n",
    "# Path to your CSV file (update this as needed)\n",
    "file_path = 'your_dataset.csv'\n",
    "\n",
    "# Check if the file exists\n",
    "if os.path.exists(file_path):\n",
    "    # Load dataset\n",
    "    df = pd.read_csv(file_path)\n",
    "    print(\"Dataset loaded successfully.\\n\")\n",
    "    \n",
    "    # Generate and print summary statistics for numerical columns\n",
    "    print(\"Summary statistics for numerical columns:\")\n",
    "    print(df.describe())\n",
    "else:\n",
    "    print(f\"Error: File '{file_path}' not found. Please check the file path.\")\n"
   ]
  },
  {
   "cell_type": "markdown",
   "metadata": {},
   "source": [
    "        Question 5: Identify columns with missing values and count the number of missing values in each."
   ]
  },
  {
   "cell_type": "code",
   "execution_count": 7,
   "metadata": {},
   "outputs": [
    {
     "name": "stdout",
     "output_type": "stream",
     "text": [
      "Error: File 'your_dataset.csv' not found.\n"
     ]
    }
   ],
   "source": [
    "import pandas as pd\n",
    "import os\n",
    "\n",
    "file_path = 'your_dataset.csv'  # Update this to your file path\n",
    "\n",
    "if os.path.exists(file_path):\n",
    "    df = pd.read_csv(file_path)\n",
    "    print(\"Dataset loaded successfully.\\n\")\n",
    "    \n",
    "    # Count missing values per column\n",
    "    missing_counts = df.isnull().sum()\n",
    "    \n",
    "    # Filter only columns with missing values\n",
    "    missing_counts = missing_counts[missing_counts > 0]\n",
    "    \n",
    "    if missing_counts.empty:\n",
    "        print(\"No missing values found in any column.\")\n",
    "    else:\n",
    "        print(\"Columns with missing values and their counts:\")\n",
    "        print(missing_counts)\n",
    "else:\n",
    "    print(f\"Error: File '{file_path}' not found.\")\n"
   ]
  },
  {
   "cell_type": "markdown",
   "metadata": {},
   "source": [
    "Question 6: Replace missing values in a column with the median value of that column."
   ]
  },
  {
   "cell_type": "code",
   "execution_count": 8,
   "metadata": {},
   "outputs": [
    {
     "name": "stdout",
     "output_type": "stream",
     "text": [
      "Error: File 'your_dataset.csv' not found.\n"
     ]
    }
   ],
   "source": [
    "import pandas as pd\n",
    "import os\n",
    "\n",
    "file_path = 'your_dataset.csv'  # Update this to your file path\n",
    "\n",
    "if os.path.exists(file_path):\n",
    "    df = pd.read_csv(file_path)\n",
    "    print(\"Dataset loaded successfully.\\n\")\n",
    "    \n",
    "    # Count missing values per column\n",
    "    missing_counts = df.isnull().sum()\n",
    "    \n",
    "    # Filter only columns with missing values\n",
    "    missing_counts = missing_counts[missing_counts > 0]\n",
    "    \n",
    "    if missing_counts.empty:\n",
    "        print(\"No missing values found in any column.\")\n",
    "    else:\n",
    "        print(\"Columns with missing values and their counts:\")\n",
    "        print(missing_counts)\n",
    "else:\n",
    "    print(f\"Error: File '{file_path}' not found.\")\n"
   ]
  },
  {
   "cell_type": "markdown",
   "metadata": {},
   "source": [
    "Question 7: Remove duplicate rows from the dataset."
   ]
  },
  {
   "cell_type": "code",
   "execution_count": 9,
   "metadata": {},
   "outputs": [
    {
     "name": "stdout",
     "output_type": "stream",
     "text": [
      "Error: File 'your_dataset.csv' not found.\n"
     ]
    }
   ],
   "source": [
    "import pandas as pd\n",
    "import os\n",
    "\n",
    "file_path = 'your_dataset.csv'  # Update this path as needed\n",
    "\n",
    "if os.path.exists(file_path):\n",
    "    df = pd.read_csv(file_path)\n",
    "    print(\"Dataset loaded successfully.\\n\")\n",
    "    \n",
    "    print(f\"Rows before removing duplicates: {len(df)}\")\n",
    "    \n",
    "    # Remove duplicates (create new DataFrame)\n",
    "    df_no_duplicates = df.drop_duplicates()\n",
    "    \n",
    "    print(f\"Rows after removing duplicates: {len(df_no_duplicates)}\")\n",
    "    \n",
    "    # If you want to overwrite original df with no duplicates, use:\n",
    "    # df.drop_duplicates(inplace=True)\n",
    "else:\n",
    "    print(f\"Error: File '{file_path}' not found.\")\n"
   ]
  },
  {
   "cell_type": "markdown",
   "metadata": {},
   "source": [
    "Question 8: Create a histogram to visualize the distribution of a numerical column (e.g., 'price')."
   ]
  },
  {
   "cell_type": "code",
   "execution_count": 10,
   "metadata": {},
   "outputs": [
    {
     "name": "stdout",
     "output_type": "stream",
     "text": [
      "Error: File 'your_dataset.csv' not found.\n"
     ]
    }
   ],
   "source": [
    "import pandas as pd\n",
    "import matplotlib.pyplot as plt\n",
    "import os\n",
    "\n",
    "file_path = 'your_dataset.csv'  # Update this to your actual file path\n",
    "\n",
    "if os.path.exists(file_path):\n",
    "    df = pd.read_csv(file_path)\n",
    "    print(\"Dataset loaded successfully.\\n\")\n",
    "    \n",
    "    if 'price' in df.columns:\n",
    "        plt.figure(figsize=(8, 5))\n",
    "        plt.hist(df['price'].dropna(), bins=30, color='skyblue', edgecolor='black')\n",
    "        plt.title('Histogram of Price')\n",
    "        plt.xlabel('Price')\n",
    "        plt.ylabel('Frequency')\n",
    "        plt.grid(axis='y', alpha=0.75)\n",
    "        plt.show()\n",
    "    else:\n",
    "        print(\"Column 'price' not found in the dataset.\")\n",
    "else:\n",
    "    print(f\"Error: File '{file_path}' not found.\")\n"
   ]
  },
  {
   "cell_type": "markdown",
   "metadata": {},
   "source": [
    "Question 9: Create a scatter plot to visualize the relationship between two numerical variables"
   ]
  },
  {
   "cell_type": "code",
   "execution_count": null,
   "metadata": {},
   "outputs": [
    {
     "name": "stdout",
     "output_type": "stream",
     "text": [
      "Error: File 'your_dataset.csv' not found.\n"
     ]
    }
   ],
   "source": [
    "import pandas as pd\n",
    "import matplotlib.pyplot as plt\n",
    "import os\n",
    "\n",
    "file_path = 'your_dataset.csv'  # Update with your dataset path\n",
    "\n",
    "if os.path.exists(file_path):\n",
    "    df = pd.read_csv(file_path)\n",
    "    print(\"Dataset loaded successfully.\\n\")\n",
    "    \n",
    "    # Replace 'x' and 'y' with your actual column names\n",
    "    x_col = 'x'\n",
    "    y_col = 'y'\n",
    "\n",
    "    \n",
    "    \n",
    "    if x_col in df.columns and y_col in df.columns:\n",
    "        plt.figure(figsize=(8, 5))\n",
    "        plt.scatter(df[x_col], df[y_col], alpha=0.7, edgecolor='k')\n",
    "        plt.title(f'Scatter Plot of {x_col} vs {y_col}')\n",
    "        plt.xlabel(x_col)\n",
    "        plt.ylabel(y_col)\n",
    "        plt.grid(True)\n",
    "        plt.show()\n",
    "    else:\n",
    "        missing = [col for col in [x_col, y_col] if col not in df.columns]\n",
    "        print(f\"Column(s) {missing} not found in the dataset.\")\n",
    "else:\n",
    "    print(f\"Error: File '{file_path}' not found.\")\n"
   ]
  },
  {
   "cell_type": "markdown",
   "metadata": {},
   "source": [
    "Question 10: Visualize the correlation matrix of the dataset using a heatmap."
   ]
  },
  {
   "cell_type": "code",
   "execution_count": 12,
   "metadata": {},
   "outputs": [
    {
     "name": "stdout",
     "output_type": "stream",
     "text": [
      "Error: File 'your_dataset.csv' not found.\n"
     ]
    }
   ],
   "source": [
    "import pandas as pd\n",
    "import seaborn as sns\n",
    "import matplotlib.pyplot as plt\n",
    "import os\n",
    "\n",
    "file_path = 'your_dataset.csv'  # Update with your dataset file path\n",
    "\n",
    "if os.path.exists(file_path):\n",
    "    df = pd.read_csv(file_path)\n",
    "    print(\"Dataset loaded successfully.\\n\")\n",
    "    \n",
    "    # Compute correlation matrix\n",
    "    corr = df.corr()\n",
    "    \n",
    "    # Plot heatmap\n",
    "    plt.figure(figsize=(10, 8))\n",
    "    sns.heatmap(corr, annot=True, fmt=\".2f\", cmap='coolwarm', square=True, cbar=True)\n",
    "    plt.title('Correlation Matrix Heatmap')\n",
    "    plt.show()\n",
    "else:\n",
    "    print(f\"Error: File '{file_path}' not found.\")\n"
   ]
  }
 ],
 "metadata": {
  "kernelspec": {
   "display_name": "Python 3",
   "language": "python",
   "name": "python3"
  },
  "language_info": {
   "codemirror_mode": {
    "name": "ipython",
    "version": 3
   },
   "file_extension": ".py",
   "mimetype": "text/x-python",
   "name": "python",
   "nbconvert_exporter": "python",
   "pygments_lexer": "ipython3",
   "version": "3.10.12"
  }
 },
 "nbformat": 4,
 "nbformat_minor": 2
}
