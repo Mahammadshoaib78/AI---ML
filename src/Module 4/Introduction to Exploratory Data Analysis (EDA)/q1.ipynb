{
 "cells": [
  {
   "cell_type": "markdown",
   "metadata": {},
   "source": [
    "Question 1: Understanding the Dataset \n",
    "<br>\n",
    "Description: Load a dataset and understand its basic properties including data types dimensions, and first few rows"
   ]
  },
  {
   "cell_type": "code",
   "execution_count": null,
   "metadata": {},
   "outputs": [],
   "source": [
    "import pandas as pd\n",
    "from sklearn.datasets import fetch_california_housing\n",
    "\n",
    "# Load California Housing dataset from sklearn\n",
    "data = fetch_california_housing(as_frame=True)  # as_frame=True returns a pandas DataFrame\n",
    "\n",
    "# Extract DataFrame and target\n",
    "df = data.frame\n",
    "\n",
    "# Basic properties\n",
    "print(\"=== Dataset shape ===\")\n",
    "print(df.shape)  # rows and columns\n",
    "\n",
    "print(\"\\n=== Data types ===\")\n",
    "print(df.dtypes)  # data type of each column\n",
    "\n",
    "print(\"\\n=== First 5 rows ===\")\n",
    "print(df.head())  # preview first 5 rows\n"
   ]
  },
  {
   "cell_type": "markdown",
   "metadata": {},
   "source": [
    "Question 2: Checking for Missing Values\n",
    "<br>\n",
    "Description: Identify missing values in the dataset."
   ]
  },
  {
   "cell_type": "code",
   "execution_count": null,
   "metadata": {},
   "outputs": [],
   "source": [
    "import pandas as pd\n",
    "from sklearn.datasets import fetch_california_housing\n",
    "\n",
    "# Load dataset\n",
    "data = fetch_california_housing(as_frame=True)\n",
    "df = data.frame\n",
    "\n",
    "# Check for missing values\n",
    "missing_values = df.isnull().sum()\n",
    "\n",
    "print(\"Missing values in each column:\")\n",
    "print(missing_values)\n"
   ]
  },
  {
   "cell_type": "markdown",
   "metadata": {},
   "source": [
    "Question 3: Descriptive Statistics\n",
    "<br>\n",
    "Description: Calculate descriptive statistics for numerical columns."
   ]
  },
  {
   "cell_type": "code",
   "execution_count": null,
   "metadata": {},
   "outputs": [],
   "source": [
    "import pandas as pd\n",
    "from sklearn.datasets import fetch_california_housing\n",
    "\n",
    "# Load dataset\n",
    "data = fetch_california_housing(as_frame=True)\n",
    "df = data.frame\n",
    "\n",
    "# Calculate descriptive statistics\n",
    "desc_stats = df.describe()\n",
    "\n",
    "print(\"Descriptive statistics for numerical columns:\")\n",
    "print(desc_stats)\n"
   ]
  },
  {
   "cell_type": "markdown",
   "metadata": {},
   "source": [
    "Question 4: Handling Outliers\n",
    "<br>\n",
    "Description: Identify outliers in numerical columns using box plots."
   ]
  },
  {
   "cell_type": "code",
   "execution_count": null,
   "metadata": {},
   "outputs": [],
   "source": [
    "import pandas as pd\n",
    "import matplotlib.pyplot as plt\n",
    "import seaborn as sns\n",
    "from sklearn.datasets import fetch_california_housing\n",
    "\n",
    "# Load dataset\n",
    "data = fetch_california_housing(as_frame=True)\n",
    "df = data.frame\n",
    "\n",
    "# Select numerical columns (all columns here are numeric)\n",
    "numerical_cols = df.columns\n",
    "\n",
    "# Plot boxplots for each numerical column\n",
    "plt.figure(figsize=(15, 10))\n",
    "\n",
    "for i, col in enumerate(numerical_cols, 1):\n",
    "    plt.subplot(4, 4, i)  # adjust subplot grid size depending on number of features\n",
    "    sns.boxplot(x=df[col])\n",
    "    plt.title(col)\n",
    "\n",
    "plt.tight_layout()\n",
    "plt.show()\n"
   ]
  },
  {
   "cell_type": "markdown",
   "metadata": {},
   "source": [
    "\n",
    "Question 5: Categorical Data Analysis\n",
    "<br>\n",
    "Description: Explore the counts of categorical variables."
   ]
  },
  {
   "cell_type": "code",
   "execution_count": null,
   "metadata": {},
   "outputs": [],
   "source": [
    "import pandas as pd\n",
    "\n",
    "# Example DataFrame with categorical columns\n",
    "# For demonstration, let's create a sample categorical DataFrame\n",
    "df = pd.DataFrame({\n",
    "    'Category1': ['A', 'B', 'A', 'C', 'B', 'A'],\n",
    "    'Category2': ['X', 'X', 'Y', 'Y', 'X', 'Z'],\n",
    "    'Numeric': [1, 2, 3, 4, 5, 6]\n",
    "})\n",
    "\n",
    "# Select categorical columns (object or category dtype)\n",
    "categorical_cols = df.select_dtypes(include=['object', 'category']).columns\n",
    "\n",
    "for col in categorical_cols:\n",
    "    print(f\"Value counts for '{col}':\")\n",
    "    print(df[col].value_counts())\n",
    "    print()\n"
   ]
  },
  {
   "cell_type": "markdown",
   "metadata": {},
   "source": [
    "Question 6: Data Transformation\n",
    "<br>\n",
    "Description: Transform a categorical column into numerical using Label Encoding."
   ]
  },
  {
   "cell_type": "code",
   "execution_count": null,
   "metadata": {},
   "outputs": [],
   "source": [
    "import pandas as pd\n",
    "from sklearn.preprocessing import LabelEncoder\n",
    "\n",
    "# Sample DataFrame with a categorical column\n",
    "df = pd.DataFrame({\n",
    "    'Color': ['Red', 'Blue', 'Green', 'Blue', 'Red', 'Green']\n",
    "})\n",
    "\n",
    "# Initialize LabelEncoder\n",
    "le = LabelEncoder()\n",
    "\n",
    "# Fit and transform the 'Color' column\n",
    "df['Color_encoded'] = le.fit_transform(df['Color'])\n",
    "\n",
    "print(\"Original Data:\")\n",
    "print(df[['Color']])\n",
    "\n",
    "print(\"\\nLabel Encoded Data:\")\n",
    "print(df[['Color_encoded']])\n"
   ]
  },
  {
   "cell_type": "markdown",
   "metadata": {},
   "source": [
    "Question 7: Visualizing Data Distributions\n",
    "<br>\n",
    "Description: Plot histograms for numerical columns to understand distributions."
   ]
  },
  {
   "cell_type": "code",
   "execution_count": null,
   "metadata": {},
   "outputs": [],
   "source": [
    "import pandas as pd\n",
    "import matplotlib.pyplot as plt\n",
    "from sklearn.datasets import fetch_california_housing\n",
    "\n",
    "# Load dataset\n",
    "data = fetch_california_housing(as_frame=True)\n",
    "df = data.frame\n",
    "\n",
    "# Select numerical columns\n",
    "numerical_cols = df.select_dtypes(include=['number']).columns\n",
    "\n",
    "# Plot histograms\n",
    "plt.figure(figsize=(15, 10))\n",
    "for i, col in enumerate(numerical_cols, 1):\n",
    "    plt.subplot(4, 4, i)  # Adjust grid size depending on number of features\n",
    "    plt.hist(df[col], bins=30, color='skyblue', edgecolor='black')\n",
    "    plt.title(col)\n",
    "    plt.xlabel(col)\n",
    "    plt.ylabel('Frequency')\n",
    "\n",
    "plt.tight_layout()\n",
    "plt.show()\n"
   ]
  },
  {
   "cell_type": "markdown",
   "metadata": {},
   "source": [
    "Question 8: Correlation Analysis\n",
    "<br>\n",
    "Description: Calculate and visualize the correlation matrix for numerical features."
   ]
  },
  {
   "cell_type": "code",
   "execution_count": null,
   "metadata": {},
   "outputs": [],
   "source": [
    "import pandas as pd\n",
    "import matplotlib.pyplot as plt\n",
    "import seaborn as sns\n",
    "from sklearn.datasets import fetch_california_housing\n",
    "\n",
    "# Load dataset\n",
    "data = fetch_california_housing(as_frame=True)\n",
    "df = data.frame\n",
    "\n",
    "# Calculate correlation matrix\n",
    "corr_matrix = df.corr()\n",
    "\n",
    "print(\"Correlation matrix:\")\n",
    "print(corr_matrix)\n",
    "\n",
    "# Visualize correlation matrix as heatmap\n",
    "plt.figure(figsize=(12, 10))\n",
    "sns.heatmap(corr_matrix, annot=True, fmt=\".2f\", cmap='coolwarm', square=True)\n",
    "plt.title(\"Correlation Matrix Heatmap\")\n",
    "plt.show()\n"
   ]
  },
  {
   "cell_type": "markdown",
   "metadata": {},
   "source": [
    "Question 9: Feature Engineering\n",
    "<br>\n",
    "Description: Create a new feature by combining or transforming existing features."
   ]
  },
  {
   "cell_type": "code",
   "execution_count": null,
   "metadata": {},
   "outputs": [],
   "source": [
    "import pandas as pd\n",
    "from sklearn.datasets import fetch_california_housing\n",
    "\n",
    "# Load dataset\n",
    "data = fetch_california_housing(as_frame=True)\n",
    "df = data.frame\n",
    "\n",
    "# Create a new feature: Rooms per Occupant\n",
    "df['Rooms_per_Occupant'] = df['AveRooms'] / df['AveOccup']\n",
    "\n",
    "# Show the first few rows\n",
    "print(df[['AveRooms', 'AveOccup', 'Rooms_per_Occupant']].head())\n"
   ]
  },
  {
   "cell_type": "markdown",
   "metadata": {},
   "source": [
    "Question 10: Advanced Outlier Detection\n",
    "<br>\n",
    "Description: Use the Z-score method to identify and handle outliers."
   ]
  },
  {
   "cell_type": "code",
   "execution_count": null,
   "metadata": {},
   "outputs": [],
   "source": [
    "import pandas as pd\n",
    "import numpy as np\n",
    "from sklearn.datasets import fetch_california_housing\n",
    "from scipy.stats import zscore\n",
    "\n",
    "# Load dataset\n",
    "data = fetch_california_housing(as_frame=True)\n",
    "df = data.frame\n",
    "\n",
    "# Calculate Z-scores for numerical columns\n",
    "z_scores = df.apply(zscore)\n",
    "\n",
    "# Define a threshold for identifying outliers\n",
    "threshold = 3\n",
    "\n",
    "# Find outliers: True if any column's Z-score > threshold (positive or negative)\n",
    "outliers = (np.abs(z_scores) > threshold).any(axis=1)\n",
    "\n",
    "print(f\"Number of outliers detected: {outliers.sum()}\")\n",
    "\n",
    "# Optional: Remove outliers\n",
    "df_no_outliers = df[~outliers]\n",
    "\n",
    "print(f\"Shape before removing outliers: {df.shape}\")\n",
    "print(f\"Shape after removing outliers: {df_no_outliers.shape}\")\n"
   ]
  }
 ],
 "metadata": {
  "kernelspec": {
   "display_name": "Python 3",
   "language": "python",
   "name": "python3"
  },
  "language_info": {
   "codemirror_mode": {
    "name": "ipython",
    "version": 3
   },
   "file_extension": ".py",
   "mimetype": "text/x-python",
   "name": "python",
   "nbconvert_exporter": "python",
   "pygments_lexer": "ipython3",
   "version": "3.10.12"
  }
 },
 "nbformat": 4,
 "nbformat_minor": 2
}
