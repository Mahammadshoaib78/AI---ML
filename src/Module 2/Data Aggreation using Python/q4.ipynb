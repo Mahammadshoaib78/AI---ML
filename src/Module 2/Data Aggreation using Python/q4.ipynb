{
 "cells": [
  {
   "cell_type": "markdown",
   "metadata": {},
   "source": [
    "Title: Hands-on: Real-World Data Aggregation<br>\n",
    "Objective: Apply learned concepts to real-world data scenarios"
   ]
  },
  {
   "cell_type": "markdown",
   "metadata": {},
   "source": [
    "Task 1: Analyzing Sales by Region<br>\n",
    "\n",
    "Task: Use a real-world sales dataset to calculate yearly sales trends by region.<br>\n",
    " Steps:<br>\n",
    " 28. Acquire a dataset containing columns such as 'date', 'region', and 'sales'.<br>\n",
    " 29. Extract the year from the 'date' column.<br>\n",
    " 30. Group by 'year' and 'region' to apply the sum aggregation on 'sales'"
   ]
  },
  {
   "cell_type": "code",
   "execution_count": null,
   "metadata": {},
   "outputs": [],
   "source": [
    "import pandas as pd\n",
    "\n",
    "# Sample data simulating a sales dataset\n",
    "data = {\n",
    "    'date': [\n",
    "        '2021-01-15', '2021-05-20', '2022-03-10', '2022-07-25',\n",
    "        '2023-02-15', '2023-06-18', '2021-11-30', '2022-12-05'\n",
    "    ],\n",
    "    'region': ['North', 'South', 'North', 'South', 'North', 'South', 'East', 'East'],\n",
    "    'sales': [250, 400, 300, 350, 450, 500, 200, 220]\n",
    "}\n",
    "\n",
    "# Step 28: Load dataset into a DataFrame\n",
    "df = pd.DataFrame(data)\n",
    "\n",
    "# Step 29: Extract year from the 'date' column\n",
    "df['year'] = pd.to_datetime(df['date']).dt.year\n",
    "\n",
    "# Step 30: Group by 'year' and 'region' and calculate total sales\n",
    "yearly_sales = df.groupby(['year', 'region'])['sales'].sum().reset_index()\n",
    "\n",
    "print(\"Yearly Sales by Region:\")\n",
    "print(yearly_sales)\n"
   ]
  },
  {
   "cell_type": "markdown",
   "metadata": {},
   "source": [
    "Task 2: Customer Purchase Patterns<br>\n",
    "\n",
    "Task: Find the top 5 customers by the total amount spent using a purchases dataset.<br>\n",
    " Steps:<br>\n",
    " 31. Load a dataset with 'customer_id' and 'amount_spent'.<br>\n",
    " 32. Group by 'customer_id'.<br>\n",
    " 33. Use .sum() on 'amount_spent' and sort values"
   ]
  },
  {
   "cell_type": "code",
   "execution_count": null,
   "metadata": {},
   "outputs": [],
   "source": [
    "import pandas as pd\n",
    "\n",
    "# Step 31: Sample purchases dataset\n",
    "data = {\n",
    "    'customer_id': ['C001', 'C002', 'C001', 'C003', 'C002', 'C004', 'C005', 'C003', 'C005'],\n",
    "    'amount_spent': [120.50, 230.00, 75.25, 310.40, 45.00, 500.00, 150.00, 100.00, 200.00]\n",
    "}\n",
    "\n",
    "df = pd.DataFrame(data)\n",
    "\n",
    "# Step 32: Group by 'customer_id'\n",
    "grouped = df.groupby('customer_id')\n",
    "\n",
    "# Step 33: Sum 'amount_spent' and sort descending to get top spenders\n",
    "total_spent = grouped['amount_spent'].sum().sort_values(ascending=False)\n",
    "\n",
    "# Select top 5 customers\n",
    "top_5_customers = total_spent.head(5)\n",
    "\n",
    "print(\"Top 5 Customers by Total Amount Spent:\")\n",
    "print(top_5_customers)\n"
   ]
  },
  {
   "cell_type": "markdown",
   "metadata": {},
   "source": [
    " Task 3: Seasonality Analysis<br>\n",
    "\n",
    " Task: Determine which months have the highest and lowest sales for a retail dataset.<br>\n",
    " Steps:<br>\n",
    " 34. Use a dataset with 'transaction_date' and 'sales'.<br>\n",
    " 35. Extract the month from 'transaction_date'.<br>\n",
    " 36. Group by 'month' and sum 'sales', then sort to find extremes"
   ]
  },
  {
   "cell_type": "code",
   "execution_count": null,
   "metadata": {},
   "outputs": [],
   "source": [
    "import pandas as pd\n",
    "\n",
    "# Step 34: Sample retail dataset\n",
    "data = {\n",
    "    'transaction_date': [\n",
    "        '2023-01-15', '2023-01-20', '2023-02-05', '2023-03-10',\n",
    "        '2023-03-25', '2023-04-12', '2023-05-30', '2023-06-01',\n",
    "        '2023-07-15', '2023-08-20', '2023-09-10', '2023-10-05',\n",
    "        '2023-11-22', '2023-12-15'\n",
    "    ],\n",
    "    'sales': [\n",
    "        200, 150, 300, 400,\n",
    "        350, 500, 450, 700,\n",
    "        600, 550, 480, 520,\n",
    "        610, 450\n",
    "    ]\n",
    "}\n",
    "\n",
    "df = pd.DataFrame(data)\n",
    "\n",
    "# Convert 'transaction_date' to datetime\n",
    "df['transaction_date'] = pd.to_datetime(df['transaction_date'])\n",
    "\n",
    "# Step 35: Extract month number (1-12)\n",
    "df['month'] = df['transaction_date'].dt.month\n",
    "\n",
    "# Step 36: Group by month and sum sales\n",
    "monthly_sales = df.groupby('month')['sales'].sum().sort_values()\n",
    "\n",
    "print(\"Monthly Sales (sorted):\")\n",
    "print(monthly_sales)\n",
    "\n",
    "# Identify month with lowest and highest sales\n",
    "lowest_month = monthly_sales.idxmin()\n",
    "highest_month = monthly_sales.idxmax()\n",
    "\n",
    "print(f\"\\nMonth with lowest sales: {lowest_month} (Total sales: {monthly_sales[lowest_month]})\")\n",
    "print(f\"Month with highest sales: {highest_month} (Total sales: {monthly_sales[highest_month]})\")\n"
   ]
  }
 ],
 "metadata": {
  "kernelspec": {
   "display_name": "Python 3",
   "language": "python",
   "name": "python3"
  },
  "language_info": {
   "codemirror_mode": {
    "name": "ipython",
    "version": 3
   },
   "file_extension": ".py",
   "mimetype": "text/x-python",
   "name": "python",
   "nbconvert_exporter": "python",
   "pygments_lexer": "ipython3",
   "version": "3.10.12"
  }
 },
 "nbformat": 4,
 "nbformat_minor": 2
}
