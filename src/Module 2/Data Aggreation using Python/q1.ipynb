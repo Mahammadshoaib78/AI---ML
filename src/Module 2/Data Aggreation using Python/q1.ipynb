{
 "cells": [
  {
   "cell_type": "markdown",
   "metadata": {},
   "source": [
    "Title: Introduction to Data Aggregation\n",
    "<br>\n",
    "Objective: Understand the basic concepts of data aggregation and practice simple aggregation methods."
   ]
  },
  {
   "cell_type": "markdown",
   "metadata": {},
   "source": [
    "Task 1: Calculating Sum\n",
    "<br>\n",
    "Task: Use a numerical dataset containing columns like 'sales', 'profit', and 'quantity'.\n",
    "Calculate the total sales for the dataset.\n",
    "<br>\n",
    "Steps:<br>\n",
    "1. Load the dataset using pandas.<br>\n",
    "2. Apply the .sum() function on the 'sales' column.<br>\n",
    "3. Verify the result by manually summing a portion of the 'sales' values."
   ]
  },
  {
   "cell_type": "code",
   "execution_count": null,
   "metadata": {},
   "outputs": [],
   "source": [
    "import pandas as pd\n",
    "\n",
    "# Create sample data similar to what you described\n",
    "data = {\n",
    "    'sales': [100, 200, 150, 300, 250],\n",
    "    'profit': [20, 40, 30, 60, 50],\n",
    "    'quantity': [1, 2, 1, 3, 2]\n",
    "}\n",
    "\n",
    "df = pd.DataFrame(data)\n",
    "\n",
    "# Display the DataFrame\n",
    "print(df)\n",
    "\n",
    "# Calculate total sales using .sum()\n",
    "total_sales = df['sales'].sum()\n",
    "print(f\"Total sales (using .sum()): {total_sales}\")\n",
    "\n",
    "# Manually sum a portion (first 3 rows)\n",
    "manual_sum = df.loc[:2, 'sales'].sum()\n",
    "print(f\"Sum of first 3 sales values: {manual_sum}\")\n",
    "\n",
    "# Show the values for manual verification\n",
    "print(\"First 3 sales values:\", df.loc[:2, 'sales'].values)\n"
   ]
  },
  {
   "cell_type": "markdown",
   "metadata": {},
   "source": [
    "Task 2: Calculating Mean<br>\n",
    "\n",
    "Task: Calculate the average quantity sold.<br>\n",
    "Steps:<br>\n",
    "4. Load the dataset.<br>\n",
    "5. Use the .mean() function on the 'quantity' column to find the average.<br>\n",
    "6. Double-check by calculating the mean manually on a small selection."
   ]
  },
  {
   "cell_type": "code",
   "execution_count": null,
   "metadata": {},
   "outputs": [],
   "source": [
    "import pandas as pd\n",
    "\n",
    "# Sample dataset\n",
    "data = {\n",
    "    'sales': [100, 200, 150, 300, 250],\n",
    "    'profit': [20, 40, 30, 60, 50],\n",
    "    'quantity': [1, 2, 1, 3, 2]\n",
    "}\n",
    "\n",
    "# Step 4: Load dataset (here, creating it directly)\n",
    "df = pd.DataFrame(data)\n",
    "\n",
    "# Step 5: Calculate average quantity sold using .mean()\n",
    "average_quantity = df['quantity'].mean()\n",
    "print(f\"Average quantity sold (using .mean()): {average_quantity}\")\n",
    "\n",
    "# Step 6: Double-check by manual mean calculation on first 3 rows\n",
    "subset = df.loc[:2, 'quantity']\n",
    "manual_mean = subset.sum() / len(subset)\n",
    "print(f\"Manual mean of quantity (first 3 rows): {manual_mean}\")\n",
    "\n",
    "print(\"Quantities in first 3 rows:\", subset.values)\n"
   ]
  }
 ],
 "metadata": {
  "kernelspec": {
   "display_name": "Python 3",
   "language": "python",
   "name": "python3"
  },
  "language_info": {
   "codemirror_mode": {
    "name": "ipython",
    "version": 3
   },
   "file_extension": ".py",
   "mimetype": "text/x-python",
   "name": "python",
   "nbconvert_exporter": "python",
   "pygments_lexer": "ipython3",
   "version": "3.10.12"
  }
 },
 "nbformat": 4,
 "nbformat_minor": 2
}
