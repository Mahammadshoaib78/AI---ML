{
 "cells": [
  {
   "cell_type": "markdown",
   "metadata": {},
   "source": [
    "Pivot Tables & Advanced Aggregations<br>\n",
    "Objective: Utilize pivot tables for complex aggregation tasks."
   ]
  },
  {
   "cell_type": "markdown",
   "metadata": {},
   "source": [
    "Task 1: Creating a Basic Pivot Table<br>\n",
    "Task: Create a pivot table that shows the total sales for each 'category' across 'years'.<br>\n",
    "Steps:<br>\n",
    "19. Use pandas pivot_table() function.<br>\n",
    "20. Set index='year' and columns='category' .<br>\n",
    "21. Define the value parameter as 'sales' and aggregation function as np.sum ."
   ]
  },
  {
   "cell_type": "code",
   "execution_count": null,
   "metadata": {},
   "outputs": [],
   "source": [
    "import pandas as pd\n",
    "import numpy as np\n",
    "\n",
    "# Sample dataset with 'year', 'category', and 'sales'\n",
    "data = {\n",
    "    'year': [2020, 2020, 2021, 2021, 2020, 2021, 2022, 2022],\n",
    "    'category': ['A', 'B', 'A', 'B', 'A', 'B', 'A', 'B'],\n",
    "    'sales': [100, 150, 200, 130, 170, 180, 160, 140]\n",
    "}\n",
    "\n",
    "df = pd.DataFrame(data)\n",
    "\n",
    "# Step 19-21: Create pivot table\n",
    "pivot = pd.pivot_table(df, index='year', columns='category', values='sales', aggfunc=np.sum)\n",
    "\n",
    "print(\"Pivot Table - Total Sales by Year and Category:\")\n",
    "print(pivot)\n"
   ]
  },
  {
   "cell_type": "markdown",
   "metadata": {},
   "source": [
    "Task 2: Pivot Table with Multiple Aggregations<br>\n",
    "\n",
    "Task: Generate a pivot table with both mean and max of 'profit' for 'category' each month.<br>\n",
    "Steps:<br>\n",
    "22. Create a pivot table.<br>\n",
    "23. Use aggfunc=['mean', 'max'] .<br>\n",
    "24. Analyze the pivot table output."
   ]
  },
  {
   "cell_type": "code",
   "execution_count": null,
   "metadata": {},
   "outputs": [],
   "source": [
    "import pandas as pd\n",
    "import numpy as np\n",
    "\n",
    "# Sample dataset with 'month', 'category', and 'profit'\n",
    "data = {\n",
    "    'month': ['Jan', 'Jan', 'Feb', 'Feb', 'Mar', 'Mar', 'Jan', 'Feb', 'Mar'],\n",
    "    'category': ['A', 'B', 'A', 'B', 'A', 'B', 'A', 'B', 'A'],\n",
    "    'profit': [20, 30, 40, 25, 35, 45, 22, 28, 38]\n",
    "}\n",
    "\n",
    "df = pd.DataFrame(data)\n",
    "\n",
    "# Step 22-23: Create pivot table with mean and max aggregation functions\n",
    "pivot = pd.pivot_table(df, index='month', columns='category', values='profit', aggfunc=['mean', 'max'])\n",
    "\n",
    "print(\"Pivot Table - Mean and Max Profit by Month and Category:\")\n",
    "print(pivot)\n"
   ]
  },
  {
   "cell_type": "markdown",
   "metadata": {},
   "source": [
    "Task 3: Advanced Pivot Table with Margins<br>\n",
    "\n",
    "Task: Create a pivot table that includes subtotals for each 'region' and 'category'.<br>\n",
    "Steps:<br>\n",
    "25. Use pivot_table() with margins=True .<br>\n",
    "26. Set the index and columns appropriately.<br>\n",
    "27. Validate subtotal correctness by summing manually."
   ]
  },
  {
   "cell_type": "code",
   "execution_count": null,
   "metadata": {},
   "outputs": [],
   "source": [
    "import pandas as pd\n",
    "import numpy as np\n",
    "\n",
    "# Sample dataset with 'region', 'category', and 'sales'\n",
    "data = {\n",
    "    'region': ['North', 'North', 'South', 'South', 'East', 'East', 'North', 'South', 'East'],\n",
    "    'category': ['A', 'B', 'A', 'B', 'A', 'B', 'A', 'B', 'A'],\n",
    "    'sales': [100, 150, 200, 130, 170, 180, 120, 110, 160]\n",
    "}\n",
    "\n",
    "df = pd.DataFrame(data)\n",
    "\n",
    "# Step 25-26: Create pivot table with margins=True for subtotals\n",
    "pivot = pd.pivot_table(\n",
    "    df,\n",
    "    index='region',\n",
    "    columns='category',\n",
    "    values='sales',\n",
    "    aggfunc=np.sum,\n",
    "    margins=True,       # Include subtotal margins\n",
    "    margins_name='Total'  # Name for the subtotal row/column\n",
    ")\n",
    "\n",
    "print(\"Pivot Table with Subtotals (Margins):\")\n",
    "print(pivot)\n"
   ]
  }
 ],
 "metadata": {
  "kernelspec": {
   "display_name": "Python 3",
   "language": "python",
   "name": "python3"
  },
  "language_info": {
   "codemirror_mode": {
    "name": "ipython",
    "version": 3
   },
   "file_extension": ".py",
   "mimetype": "text/x-python",
   "name": "python",
   "nbconvert_exporter": "python",
   "pygments_lexer": "ipython3",
   "version": "3.10.12"
  }
 },
 "nbformat": 4,
 "nbformat_minor": 2
}
