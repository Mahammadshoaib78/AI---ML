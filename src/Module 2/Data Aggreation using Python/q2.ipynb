{
 "cells": [
  {
   "cell_type": "markdown",
   "metadata": {},
   "source": [
    "Title: Grouping & Aggregating Data using Pandas<br>\n",
    "Objective: Learn how to group data and perform aggregations on these groups."
   ]
  },
  {
   "cell_type": "markdown",
   "metadata": {},
   "source": [
    "Task 1: Grouping by a Single Column<br>\n",
    "\n",
    "Task: Group the dataset by 'region' and calculate total sales per region.<br>\n",
    "Steps:<br>\n",
    "10. Load the dataset.<br>\n",
    "11. Use groupby('region') on the DataFrame.<br>\n",
    "12. Apply .sum() to the 'sales' column."
   ]
  },
  {
   "cell_type": "code",
   "execution_count": null,
   "metadata": {},
   "outputs": [],
   "source": [
    "import pandas as pd\n",
    "\n",
    "# Step 10: Sample dataset including 'region'\n",
    "data = {\n",
    "    'region': ['North', 'South', 'East', 'North', 'East', 'South', 'West'],\n",
    "    'sales': [100, 150, 200, 130, 170, 180, 160],\n",
    "    'profit': [20, 30, 40, 25, 35, 45, 33],\n",
    "    'quantity': [1, 2, 2, 1, 3, 2, 1]\n",
    "}\n",
    "\n",
    "df = pd.DataFrame(data)\n",
    "\n",
    "# Display the dataset\n",
    "print(\"Dataset:\\n\", df)\n",
    "\n",
    "# Step 11: Group by 'region'\n",
    "grouped = df.groupby('region')\n",
    "\n",
    "# Step 12: Calculate total sales per region\n",
    "total_sales_per_region = grouped['sales'].sum()\n",
    "\n",
    "print(\"\\nTotal sales per region:\")\n",
    "print(total_sales_per_region)\n"
   ]
  },
  {
   "cell_type": "markdown",
   "metadata": {},
   "source": [
    "Task 2: Grouping by Multiple Columns<br>\n",
    "\n",
    "Task: Group the dataset by 'region' and 'category', then find the average sales.<br>\n",
    "Steps:<br>\n",
    "13. Group by ['region', 'category'].<br>\n",
    "14. Use .mean() on the 'sales' column.<br>\n",
    "15. Examine the resulting DataFrame structure."
   ]
  },
  {
   "cell_type": "code",
   "execution_count": null,
   "metadata": {},
   "outputs": [],
   "source": [
    "import pandas as pd\n",
    "\n",
    "# Sample dataset including 'region' and 'category'\n",
    "data = {\n",
    "    'region': ['North', 'South', 'East', 'North', 'East', 'South', 'West', 'West'],\n",
    "    'category': ['A', 'A', 'B', 'B', 'A', 'B', 'A', 'B'],\n",
    "    'sales': [100, 150, 200, 130, 170, 180, 160, 140],\n",
    "    'profit': [20, 30, 40, 25, 35, 45, 33, 22],\n",
    "    'quantity': [1, 2, 2, 1, 3, 2, 1, 2]\n",
    "}\n",
    "\n",
    "df = pd.DataFrame(data)\n",
    "\n",
    "# Display the dataset\n",
    "print(\"Dataset:\\n\", df)\n",
    "\n",
    "# Step 13 & 14: Group by ['region', 'category'] and calculate average sales\n",
    "grouped_mean_sales = df.groupby(['region', 'category'])['sales'].mean()\n",
    "\n",
    "# Step 15: Examine the result\n",
    "print(\"\\nAverage sales grouped by region and category:\")\n",
    "print(grouped_mean_sales)\n",
    "\n",
    "# Optional: reset index to convert to DataFrame\n",
    "grouped_df = grouped_mean_sales.reset_index()\n",
    "print(\"\\nGrouped result as DataFrame:\")\n",
    "print(grouped_df)\n"
   ]
  },
  {
   "cell_type": "markdown",
   "metadata": {},
   "source": [
    "Task 3: Aggregating Multiple Functions<br>\n",
    "\n",
    "Task: Group data by 'category' and apply multiple aggregation functions (sum and count) on 'quantity'.<br>\n",
    "Steps:<br>\n",
    "16. Group by 'category'.<br>\n",
    "17. Use .agg(['sum', 'count']) on 'quantity'.<br>\n",
    "18. Analyze the result to understand how multiple aggregations work."
   ]
  },
  {
   "cell_type": "code",
   "execution_count": null,
   "metadata": {},
   "outputs": [],
   "source": [
    "import pandas as pd\n",
    "\n",
    "# Sample dataset including 'category'\n",
    "data = {\n",
    "    'region': ['North', 'South', 'East', 'North', 'East', 'South', 'West', 'West'],\n",
    "    'category': ['A', 'A', 'B', 'B', 'A', 'B', 'A', 'B'],\n",
    "    'sales': [100, 150, 200, 130, 170, 180, 160, 140],\n",
    "    'profit': [20, 30, 40, 25, 35, 45, 33, 22],\n",
    "    'quantity': [1, 2, 2, 1, 3, 2, 1, 2]\n",
    "}\n",
    "\n",
    "df = pd.DataFrame(data)\n",
    "\n",
    "# Step 16 & 17: Group by 'category' and aggregate with sum and count on 'quantity'\n",
    "agg_result = df.groupby('category')['quantity'].agg(['sum', 'count'])\n",
    "\n",
    "# Step 18: Analyze the result\n",
    "print(\"Aggregation result (sum and count of quantity grouped by category):\")\n",
    "print(agg_result)\n"
   ]
  }
 ],
 "metadata": {
  "kernelspec": {
   "display_name": "Python 3",
   "language": "python",
   "name": "python3"
  },
  "language_info": {
   "codemirror_mode": {
    "name": "ipython",
    "version": 3
   },
   "file_extension": ".py",
   "mimetype": "text/x-python",
   "name": "python",
   "nbconvert_exporter": "python",
   "pygments_lexer": "ipython3",
   "version": "3.10.12"
  }
 },
 "nbformat": 4,
 "nbformat_minor": 2
}
