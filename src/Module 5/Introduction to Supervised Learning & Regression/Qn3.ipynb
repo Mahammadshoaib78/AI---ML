{
 "cells": [
  {
   "cell_type": "markdown",
   "metadata": {},
   "source": [
    "Title: Regression Models"
   ]
  },
  {
   "cell_type": "markdown",
   "metadata": {},
   "source": [
    "Linear Regression (Simple & Multiple)"
   ]
  },
  {
   "cell_type": "markdown",
   "metadata": {},
   "source": [
    "Task 1: Differentiate between a labeled dataset of image classifications and an unlabeled dataset for clustering customer segments."
   ]
  },
  {
   "cell_type": "code",
   "execution_count": 1,
   "metadata": {},
   "outputs": [
    {
     "name": "stdout",
     "output_type": "stream",
     "text": [
      "Predicted label for new image: cat\n",
      "Customer segments assigned by clustering: [0 0 0 1 1]\n"
     ]
    }
   ],
   "source": [
    "# Example 1: Labeled Dataset for Image Classification (Supervised Learning)\n",
    "\n",
    "# Sample labeled data: images represented as feature vectors + labels\n",
    "image_features = [\n",
    "    [0.1, 0.5, 0.3],  # features of image 1\n",
    "    [0.2, 0.4, 0.4],  # features of image 2\n",
    "    [0.9, 0.1, 0.7],  # features of image 3\n",
    "]\n",
    "\n",
    "image_labels = ['cat', 'cat', 'dog']  # Corresponding labels\n",
    "\n",
    "# Supervised learning example: train a classifier (dummy example)\n",
    "from sklearn.preprocessing import LabelEncoder\n",
    "from sklearn.linear_model import LogisticRegression\n",
    "\n",
    "# Encode labels to numbers\n",
    "le = LabelEncoder()\n",
    "y = le.fit_transform(image_labels)\n",
    "\n",
    "# Train logistic regression classifier\n",
    "clf = LogisticRegression()\n",
    "clf.fit(image_features, y)\n",
    "\n",
    "# Predict label for a new image\n",
    "new_image = [[0.3, 0.6, 0.2]]\n",
    "predicted_label = le.inverse_transform(clf.predict(new_image))\n",
    "print(\"Predicted label for new image:\", predicted_label[0])\n",
    "\n",
    "\n",
    "\n",
    "# Example 2: Unlabeled Dataset for Customer Segmentation (Unsupervised Learning)\n",
    "\n",
    "# Sample unlabeled data: customer features (no labels)\n",
    "customer_data = [\n",
    "    [25, 50000],  # age, annual spending\n",
    "    [30, 54000],\n",
    "    [22, 30000],\n",
    "    [40, 70000],\n",
    "    [38, 68000],\n",
    "]\n",
    "\n",
    "# Apply clustering (KMeans) to find customer segments\n",
    "from sklearn.cluster import KMeans\n",
    "\n",
    "kmeans = KMeans(n_clusters=2, random_state=42)\n",
    "clusters = kmeans.fit_predict(customer_data)\n",
    "\n",
    "print(\"Customer segments assigned by clustering:\", clusters)\n"
   ]
  },
  {
   "cell_type": "markdown",
   "metadata": {},
   "source": [
    "Task 2: Examine a problem statement and determine which learning type is applicable.<br>"
   ]
  },
  {
   "cell_type": "code",
   "execution_count": 2,
   "metadata": {},
   "outputs": [
    {
     "name": "stdout",
     "output_type": "stream",
     "text": [
      "Problem: Predict house prices based on features\n",
      "Learning Type: Supervised Learning\n",
      "\n",
      "Problem: Group customers based on purchasing behavior\n",
      "Learning Type: Unsupervised Learning\n",
      "\n",
      "Problem: Train an agent to play chess by rewarding moves\n",
      "Learning Type: Reinforcement Learning\n",
      "\n",
      "Problem: Identify fraudulent transactions without labeled data\n",
      "Learning Type: Supervised Learning\n",
      "\n"
     ]
    }
   ],
   "source": [
    "def determine_learning_type(problem_statement: str) -> str:\n",
    "    problem = problem_statement.lower()\n",
    "    \n",
    "    if any(keyword in problem for keyword in ['predict', 'classification', 'regression', 'label', 'target', 'supervised']):\n",
    "        return \"Supervised Learning\"\n",
    "    elif any(keyword in problem for keyword in ['cluster', 'group', 'segment', 'association', 'unsupervised', 'discover']):\n",
    "        return \"Unsupervised Learning\"\n",
    "    elif any(keyword in problem for keyword in ['reward', 'agent', 'environment', 'reinforcement']):\n",
    "        return \"Reinforcement Learning\"\n",
    "    else:\n",
    "        return \"Unable to determine the learning type from the problem statement.\"\n",
    "\n",
    "# Example usages:\n",
    "problems = [\n",
    "    \"Predict house prices based on features\",\n",
    "    \"Group customers based on purchasing behavior\",\n",
    "    \"Train an agent to play chess by rewarding moves\",\n",
    "    \"Identify fraudulent transactions without labeled data\"\n",
    "]\n",
    "\n",
    "for p in problems:\n",
    "    print(f\"Problem: {p}\\nLearning Type: {determine_learning_type(p)}\\n\")\n"
   ]
  },
  {
   "cell_type": "markdown",
   "metadata": {},
   "source": [
    "Task 3: Identify whether facial recognition systems use supervised or unsupervised learning and justify."
   ]
  },
  {
   "cell_type": "code",
   "execution_count": 4,
   "metadata": {},
   "outputs": [
    {
     "name": "stdout",
     "output_type": "stream",
     "text": [
      "Accuracy: 0.97\n"
     ]
    }
   ],
   "source": [
    "from sklearn.datasets import load_digits\n",
    "from sklearn.model_selection import train_test_split\n",
    "from sklearn.linear_model import LogisticRegression\n",
    "from sklearn.metrics import accuracy_score\n",
    "\n",
    "# Load sample digits dataset (images of digits 0-9, like faces but numbers)\n",
    "digits = load_digits()\n",
    "\n",
    "X = digits.data  # features (64 pixel values)\n",
    "y = digits.target  # labels (digit 0-9)\n",
    "\n",
    "# Split dataset into train and test\n",
    "X_train, X_test, y_train, y_test = train_test_split(X, y, test_size=0.2, random_state=42)\n",
    "\n",
    "# Train a supervised classifier\n",
    "model = LogisticRegression(max_iter=1000)\n",
    "model.fit(X_train, y_train)\n",
    "\n",
    "# Predict on test set\n",
    "y_pred = model.predict(X_test)\n",
    "\n",
    "# Calculate accuracy\n",
    "print(f\"Accuracy: {accuracy_score(y_test, y_pred):.2f}\")\n"
   ]
  }
 ],
 "metadata": {
  "kernelspec": {
   "display_name": "Python 3",
   "language": "python",
   "name": "python3"
  },
  "language_info": {
   "codemirror_mode": {
    "name": "ipython",
    "version": 3
   },
   "file_extension": ".py",
   "mimetype": "text/x-python",
   "name": "python",
   "nbconvert_exporter": "python",
   "pygments_lexer": "ipython3",
   "version": "3.10.12"
  }
 },
 "nbformat": 4,
 "nbformat_minor": 2
}
